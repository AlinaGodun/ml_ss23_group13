{
 "cells": [
  {
   "cell_type": "code",
   "execution_count": 111,
   "metadata": {},
   "outputs": [
    {
     "name": "stdout",
     "output_type": "stream",
     "text": [
      "The autoreload extension is already loaded. To reload it, use:\n",
      "  %reload_ext autoreload\n"
     ]
    }
   ],
   "source": [
    "%load_ext autoreload\n",
    "%autoreload 2"
   ]
  },
  {
   "cell_type": "code",
   "execution_count": 159,
   "metadata": {},
   "outputs": [],
   "source": [
    "import pandas as pd\n",
    "from sklearn import preprocessing\n",
    "from sklearn.model_selection import cross_val_score, train_test_split\n",
    "\n",
    "from utils import data_preprocessing_util as dpu\n",
    "from utils import classification_util as cu\n",
    "\n",
    "from MLP import MLP\n",
    "from nn_framework import NNFramework\n",
    "\n",
    "import seaborn as sns\n",
    "import matplotlib.pyplot as plt"
   ]
  },
  {
   "attachments": {},
   "cell_type": "markdown",
   "metadata": {},
   "source": [
    "# Fertility Dataset"
   ]
  },
  {
   "attachments": {},
   "cell_type": "markdown",
   "metadata": {},
   "source": [
    "## Preprocessing"
   ]
  },
  {
   "cell_type": "code",
   "execution_count": 113,
   "metadata": {},
   "outputs": [],
   "source": [
    "data_path = r'data/fertility_diagnosis.csv'\n",
    "df = pd.read_csv(data_path)\n",
    "df = dpu.preprocess_fertility_dataset(df)"
   ]
  },
  {
   "cell_type": "code",
   "execution_count": 114,
   "metadata": {},
   "outputs": [],
   "source": [
    "nn = NNFramework()\n",
    "nn.fit_encoder(df=df, cols_to_encode=df.columns.difference(['age', 'hours_sitting']))\n",
    "df_encoded = nn.encode_dataset(df)"
   ]
  },
  {
   "cell_type": "code",
   "execution_count": 115,
   "metadata": {},
   "outputs": [
    {
     "data": {
      "text/plain": [
       "21"
      ]
     },
     "execution_count": 115,
     "metadata": {},
     "output_type": "execute_result"
    }
   ],
   "source": [
    "len(df_encoded.columns)"
   ]
  },
  {
   "attachments": {},
   "cell_type": "markdown",
   "metadata": {},
   "source": [
    "## Parameter experiments"
   ]
  },
  {
   "cell_type": "code",
   "execution_count": 116,
   "metadata": {},
   "outputs": [],
   "source": [
    "random_seed = 1038\n",
    "scaling = True\n",
    "oversampling = True\n",
    "\n",
    "scaler = preprocessing.StandardScaler() if scaling else None"
   ]
  },
  {
   "cell_type": "code",
   "execution_count": 117,
   "metadata": {},
   "outputs": [],
   "source": [
    "y = df_encoded['diagnosis']\n",
    "X = df_encoded[df_encoded.columns.difference(['diagnosis'])]\n",
    "X_train, X_test, y_train, y_test = train_test_split(X, y, test_size = 0.2, random_state = random_seed, shuffle=True, stratify=y)\n"
   ]
  },
  {
   "attachments": {},
   "cell_type": "markdown",
   "metadata": {},
   "source": [
    "Params to check out:\n",
    "- RELU\n",
    "- sigmoid\n",
    "- number of layers\n",
    "- number of nodes per layer\n",
    "- "
   ]
  },
  {
   "cell_type": "code",
   "execution_count": 143,
   "metadata": {},
   "outputs": [],
   "source": [
    "methods = [\n",
    "        ('MLP-relu-1-5', MLP(activation_function='relu', hidden_layer_sizes=(5,))),\n",
    "        ('MLP-sigmoid-1-5', MLP(activation_function='sigmoid', hidden_layer_sizes=(5,))),\n",
    "        ('MLP-relu-1-10', MLP(activation_function='relu', hidden_layer_sizes=(10,))),\n",
    "        ('MLP-sigmoid-1-10', MLP(activation_function='sigmoid', hidden_layer_sizes=(10,))),\n",
    "        ('MLP-relu-1-40', MLP(activation_function='relu', hidden_layer_sizes=(40,))),\n",
    "        ('MLP-sigmoid-1-40', MLP(activation_function='sigmoid', hidden_layer_sizes=(40,))),\n",
    "        ('MLP-relu-2-10', MLP(activation_function='relu', hidden_layer_sizes=(10, 10))),\n",
    "        ('MLP-sigmoid-2-10', MLP(activation_function='sigmoid', hidden_layer_sizes=(10, 10))),\n",
    "        ('MLP-relu-2-40', MLP(activation_function='relu', hidden_layer_sizes=(40, 40))),\n",
    "        ('MLP-sigmoid-2-40', MLP(activation_function='sigmoid', hidden_layer_sizes=(40, 40))),\n",
    "        ('MLP-relu-5-10', MLP(activation_function='relu', hidden_layer_sizes=(10, 10, 10, 10, 10))),\n",
    "        ('MLP-sigmoid-5-10', MLP(activation_function='sigmoid', hidden_layer_sizes=(10, 10, 10, 10, 10))),\n",
    "    ]\n",
    "    \n",
    "pipelines = cu.define_pipelines(methods, scaler=scaler, oversampling=oversampling)"
   ]
  },
  {
   "cell_type": "code",
   "execution_count": 144,
   "metadata": {},
   "outputs": [
    {
     "name": "stdout",
     "output_type": "stream",
     "text": [
      "MLP-relu-1-5\n",
      "f1 scores: [0.35483871 0.74025974 0.60784314 0.53125    0.44444444]\n",
      "f1 mean: 0.536\n",
      "f1 std: 0.133\n",
      "\n",
      "----------------------------------------------------------------------------------------------------\n",
      "MLP-sigmoid-1-5\n",
      "f1 scores: [0.34065934 0.65714286 0.60784314 0.375      0.41176471]\n",
      "f1 mean: 0.478\n",
      "f1 std: 0.129\n",
      "\n",
      "----------------------------------------------------------------------------------------------------\n",
      "MLP-relu-1-10\n",
      "f1 scores: [0.43573668 0.49820789 0.56709957 0.42857143 0.41176471]\n",
      "f1 mean: 0.468\n",
      "f1 std: 0.057\n",
      "\n",
      "----------------------------------------------------------------------------------------------------\n",
      "MLP-sigmoid-1-10\n",
      "f1 scores: [0.37321937 0.80392157 0.42857143 0.42857143 0.41176471]\n",
      "f1 mean: 0.489\n",
      "f1 std: 0.159\n",
      "\n",
      "----------------------------------------------------------------------------------------------------\n",
      "MLP-relu-1-40\n",
      "f1 scores: [0.35483871 0.60784314 0.53125    0.42857143 0.42857143]\n",
      "f1 mean: 0.470\n",
      "f1 std: 0.089\n",
      "\n",
      "----------------------------------------------------------------------------------------------------\n",
      "MLP-sigmoid-1-40\n",
      "f1 scores: [0.30666667 0.65714286 0.41176471 0.56709957 0.39393939]\n",
      "f1 mean: 0.467\n",
      "f1 std: 0.127\n",
      "\n",
      "----------------------------------------------------------------------------------------------------\n",
      "MLP-relu-2-10\n",
      "f1 scores: [0.375      0.29292929 0.2481203  0.4047619  0.33503836]\n",
      "f1 mean: 0.331\n",
      "f1 std: 0.056\n",
      "\n",
      "----------------------------------------------------------------------------------------------------\n",
      "MLP-sigmoid-2-10\n",
      "f1 scores: [0.27083333 0.47368421 0.45945946 0.42857143 0.39393939]\n",
      "f1 mean: 0.405\n",
      "f1 std: 0.073\n",
      "\n",
      "----------------------------------------------------------------------------------------------------\n",
      "MLP-relu-2-40\n",
      "f1 scores: [0.375      0.14786967 0.14786967 0.44444444 0.45945946]\n",
      "f1 mean: 0.315\n",
      "f1 std: 0.139\n",
      "\n",
      "----------------------------------------------------------------------------------------------------\n",
      "MLP-sigmoid-2-40\n",
      "f1 scores: [0.47368421 0.47368421 0.47368421 0.45945946 0.45945946]\n",
      "f1 mean: 0.468\n",
      "f1 std: 0.007\n",
      "\n",
      "----------------------------------------------------------------------------------------------------\n",
      "MLP-relu-5-10\n",
      "f1 scores: [0.47368421 0.47368421 0.47368421 0.44444444 0.45945946]\n",
      "f1 mean: 0.465\n",
      "f1 std: 0.012\n",
      "\n",
      "----------------------------------------------------------------------------------------------------\n",
      "MLP-sigmoid-5-10\n",
      "f1 scores: [0.47368421 0.47368421 0.47368421 0.45945946 0.45945946]\n",
      "f1 mean: 0.468\n",
      "f1 std: 0.007\n",
      "\n",
      "----------------------------------------------------------------------------------------------------\n"
     ]
    }
   ],
   "source": [
    "model_params = {}\n",
    "for model_name, pipeline in pipelines.items():\n",
    "    scores = cross_val_score(pipeline, X, y, cv=5, scoring='f1_macro', n_jobs=-1)\n",
    "\n",
    "    model_params[model_name] = {}\n",
    "    model_params[model_name]['f_scores'] = scores\n",
    "    model_params[model_name]['f_scores_mean'] = scores.mean()\n",
    "    model_params[model_name]['f_scores_std'] = scores.std()\n",
    "\n",
    "    print(model_name)\n",
    "    print(\n",
    "        f\"f1 scores: {model_params[model_name]['f_scores']}\\n\" +\n",
    "        f\"f1 mean: {model_params[model_name]['f_scores_mean']:.3f}\\n\" +\n",
    "        f\"f1 std: {model_params[model_name]['f_scores_std']:.3f}\\n\"\n",
    "    )\n",
    "    print('----------------------------------------------------------------------------------------------------')\n",
    "    "
   ]
  },
  {
   "cell_type": "code",
   "execution_count": 147,
   "metadata": {},
   "outputs": [
    {
     "data": {
      "text/html": [
       "<div>\n",
       "<style scoped>\n",
       "    .dataframe tbody tr th:only-of-type {\n",
       "        vertical-align: middle;\n",
       "    }\n",
       "\n",
       "    .dataframe tbody tr th {\n",
       "        vertical-align: top;\n",
       "    }\n",
       "\n",
       "    .dataframe thead th {\n",
       "        text-align: right;\n",
       "    }\n",
       "</style>\n",
       "<table border=\"1\" class=\"dataframe\">\n",
       "  <thead>\n",
       "    <tr style=\"text-align: right;\">\n",
       "      <th></th>\n",
       "      <th>model</th>\n",
       "      <th>f_scores</th>\n",
       "      <th>f_scores_mean</th>\n",
       "      <th>f_scores_std</th>\n",
       "      <th>activation_function</th>\n",
       "      <th>layer_num</th>\n",
       "      <th>layer_sizes</th>\n",
       "    </tr>\n",
       "  </thead>\n",
       "  <tbody>\n",
       "    <tr>\n",
       "      <th>0</th>\n",
       "      <td>MLP-relu-1-5</td>\n",
       "      <td>[0.3548387096774194, 0.7402597402597403, 0.607...</td>\n",
       "      <td>0.535727</td>\n",
       "      <td>0.132746</td>\n",
       "      <td>relu</td>\n",
       "      <td>1</td>\n",
       "      <td>5</td>\n",
       "    </tr>\n",
       "    <tr>\n",
       "      <th>1</th>\n",
       "      <td>MLP-sigmoid-1-5</td>\n",
       "      <td>[0.34065934065934067, 0.6571428571428571, 0.60...</td>\n",
       "      <td>0.478482</td>\n",
       "      <td>0.128693</td>\n",
       "      <td>sigmoid</td>\n",
       "      <td>1</td>\n",
       "      <td>5</td>\n",
       "    </tr>\n",
       "    <tr>\n",
       "      <th>2</th>\n",
       "      <td>MLP-relu-1-10</td>\n",
       "      <td>[0.43573667711598746, 0.4982078853046595, 0.56...</td>\n",
       "      <td>0.468276</td>\n",
       "      <td>0.05743</td>\n",
       "      <td>relu</td>\n",
       "      <td>1</td>\n",
       "      <td>10</td>\n",
       "    </tr>\n",
       "    <tr>\n",
       "      <th>3</th>\n",
       "      <td>MLP-sigmoid-1-10</td>\n",
       "      <td>[0.3732193732193732, 0.803921568627451, 0.4285...</td>\n",
       "      <td>0.48921</td>\n",
       "      <td>0.15865</td>\n",
       "      <td>sigmoid</td>\n",
       "      <td>1</td>\n",
       "      <td>10</td>\n",
       "    </tr>\n",
       "    <tr>\n",
       "      <th>4</th>\n",
       "      <td>MLP-relu-1-40</td>\n",
       "      <td>[0.3548387096774194, 0.6078431372549019, 0.531...</td>\n",
       "      <td>0.470215</td>\n",
       "      <td>0.088822</td>\n",
       "      <td>relu</td>\n",
       "      <td>1</td>\n",
       "      <td>40</td>\n",
       "    </tr>\n",
       "    <tr>\n",
       "      <th>5</th>\n",
       "      <td>MLP-sigmoid-1-40</td>\n",
       "      <td>[0.30666666666666664, 0.6571428571428571, 0.41...</td>\n",
       "      <td>0.467323</td>\n",
       "      <td>0.126704</td>\n",
       "      <td>sigmoid</td>\n",
       "      <td>1</td>\n",
       "      <td>40</td>\n",
       "    </tr>\n",
       "    <tr>\n",
       "      <th>6</th>\n",
       "      <td>MLP-relu-2-10</td>\n",
       "      <td>[0.375, 0.29292929292929293, 0.248120300751879...</td>\n",
       "      <td>0.33117</td>\n",
       "      <td>0.056056</td>\n",
       "      <td>relu</td>\n",
       "      <td>2</td>\n",
       "      <td>10</td>\n",
       "    </tr>\n",
       "    <tr>\n",
       "      <th>7</th>\n",
       "      <td>MLP-sigmoid-2-10</td>\n",
       "      <td>[0.27083333333333337, 0.4736842105263158, 0.45...</td>\n",
       "      <td>0.405298</td>\n",
       "      <td>0.072611</td>\n",
       "      <td>sigmoid</td>\n",
       "      <td>2</td>\n",
       "      <td>10</td>\n",
       "    </tr>\n",
       "    <tr>\n",
       "      <th>8</th>\n",
       "      <td>MLP-relu-2-40</td>\n",
       "      <td>[0.375, 0.14786967418546365, 0.147869674185463...</td>\n",
       "      <td>0.314929</td>\n",
       "      <td>0.139348</td>\n",
       "      <td>relu</td>\n",
       "      <td>2</td>\n",
       "      <td>40</td>\n",
       "    </tr>\n",
       "    <tr>\n",
       "      <th>9</th>\n",
       "      <td>MLP-sigmoid-2-40</td>\n",
       "      <td>[0.4736842105263158, 0.4736842105263158, 0.473...</td>\n",
       "      <td>0.467994</td>\n",
       "      <td>0.006969</td>\n",
       "      <td>sigmoid</td>\n",
       "      <td>2</td>\n",
       "      <td>40</td>\n",
       "    </tr>\n",
       "    <tr>\n",
       "      <th>10</th>\n",
       "      <td>MLP-relu-5-10</td>\n",
       "      <td>[0.4736842105263158, 0.4736842105263158, 0.473...</td>\n",
       "      <td>0.464991</td>\n",
       "      <td>0.011657</td>\n",
       "      <td>relu</td>\n",
       "      <td>5</td>\n",
       "      <td>10</td>\n",
       "    </tr>\n",
       "    <tr>\n",
       "      <th>11</th>\n",
       "      <td>MLP-sigmoid-5-10</td>\n",
       "      <td>[0.4736842105263158, 0.4736842105263158, 0.473...</td>\n",
       "      <td>0.467994</td>\n",
       "      <td>0.006969</td>\n",
       "      <td>sigmoid</td>\n",
       "      <td>5</td>\n",
       "      <td>10</td>\n",
       "    </tr>\n",
       "  </tbody>\n",
       "</table>\n",
       "</div>"
      ],
      "text/plain": [
       "               model                                           f_scores  \\\n",
       "0       MLP-relu-1-5  [0.3548387096774194, 0.7402597402597403, 0.607...   \n",
       "1    MLP-sigmoid-1-5  [0.34065934065934067, 0.6571428571428571, 0.60...   \n",
       "2      MLP-relu-1-10  [0.43573667711598746, 0.4982078853046595, 0.56...   \n",
       "3   MLP-sigmoid-1-10  [0.3732193732193732, 0.803921568627451, 0.4285...   \n",
       "4      MLP-relu-1-40  [0.3548387096774194, 0.6078431372549019, 0.531...   \n",
       "5   MLP-sigmoid-1-40  [0.30666666666666664, 0.6571428571428571, 0.41...   \n",
       "6      MLP-relu-2-10  [0.375, 0.29292929292929293, 0.248120300751879...   \n",
       "7   MLP-sigmoid-2-10  [0.27083333333333337, 0.4736842105263158, 0.45...   \n",
       "8      MLP-relu-2-40  [0.375, 0.14786967418546365, 0.147869674185463...   \n",
       "9   MLP-sigmoid-2-40  [0.4736842105263158, 0.4736842105263158, 0.473...   \n",
       "10     MLP-relu-5-10  [0.4736842105263158, 0.4736842105263158, 0.473...   \n",
       "11  MLP-sigmoid-5-10  [0.4736842105263158, 0.4736842105263158, 0.473...   \n",
       "\n",
       "   f_scores_mean f_scores_std activation_function layer_num layer_sizes  \n",
       "0       0.535727     0.132746                relu         1           5  \n",
       "1       0.478482     0.128693             sigmoid         1           5  \n",
       "2       0.468276      0.05743                relu         1          10  \n",
       "3        0.48921      0.15865             sigmoid         1          10  \n",
       "4       0.470215     0.088822                relu         1          40  \n",
       "5       0.467323     0.126704             sigmoid         1          40  \n",
       "6        0.33117     0.056056                relu         2          10  \n",
       "7       0.405298     0.072611             sigmoid         2          10  \n",
       "8       0.314929     0.139348                relu         2          40  \n",
       "9       0.467994     0.006969             sigmoid         2          40  \n",
       "10      0.464991     0.011657                relu         5          10  \n",
       "11      0.467994     0.006969             sigmoid         5          10  "
      ]
     },
     "execution_count": 147,
     "metadata": {},
     "output_type": "execute_result"
    }
   ],
   "source": [
    "df_param = pd.DataFrame(model_params).transpose()\n",
    "df_param = df_param.reset_index(drop=False)\n",
    "df_param = df_param.rename(columns={'index': 'model'})\n",
    "\n",
    "df_param['activation_function'] = df_param.model.str.extract(r'MLP-(\\w+)-.*')\n",
    "df_param['layer_num'] = df_param.model.str.extract(r'MLP-\\w+-(\\d+).*')\n",
    "df_param['layer_sizes'] = df_param.model.str.extract(r'MLP-\\w+-\\d-(\\d+)')\n",
    "\n",
    "df_param"
   ]
  },
  {
   "cell_type": "code",
   "execution_count": 164,
   "metadata": {},
   "outputs": [
    {
     "data": {
      "text/plain": [
       "<Axes: xlabel='layer_sizes', ylabel='f_scores_mean'>"
      ]
     },
     "execution_count": 164,
     "metadata": {},
     "output_type": "execute_result"
    },
    {
     "data": {
      "image/png": "[encoded data removed]",
      "text/plain": [
       "<Figure size 1200x500 with 2 Axes>"
      ]
     },
     "metadata": {},
     "output_type": "display_data"
    }
   ],
   "source": [
    "_, axes = plt.subplots(1, 2, figsize=(12, 5))\n",
    "sns.scatterplot(data=df_param[df_param.activation_function == 'relu'], x='layer_sizes', y='f_scores_mean', hue='layer_num', ax=axes[0])\n",
    "sns.scatterplot(data=df_param[df_param.activation_function == 'sigmoid'], x='layer_sizes', y='f_scores_mean', hue='layer_num', ax=axes[1])"
   ]
  },
  {
   "attachments": {},
   "cell_type": "markdown",
   "metadata": {},
   "source": [
    "## Comparison "
   ]
  }
 ],
 "metadata": {
  "kernelspec": {
   "display_name": "base",
   "language": "python",
   "name": "python3"
  },
  "language_info": {
   "codemirror_mode": {
    "name": "ipython",
    "version": 3
   },
   "file_extension": ".py",
   "mimetype": "text/x-python",
   "name": "python",
   "nbconvert_exporter": "python",
   "pygments_lexer": "ipython3",
   "version": "3.10.9"
  },
  "orig_nbformat": 4
 },
 "nbformat": 4,
 "nbformat_minor": 2
}
