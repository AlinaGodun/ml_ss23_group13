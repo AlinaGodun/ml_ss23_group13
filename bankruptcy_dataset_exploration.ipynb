{
 "cells": [
  {
   "cell_type": "code",
   "execution_count": null,
   "metadata": {},
   "outputs": [],
   "source": [
    "import os\n",
    "import numpy as np\n",
    "import matplotlib.pyplot as plt\n",
    "import pandas as pd\n",
    "import pickle\n",
    "import seaborn as sns\n",
    "from scipy import stats\n",
    "import missingno as msno"
   ]
  },
  {
   "attachments": {},
   "cell_type": "markdown",
   "metadata": {},
   "source": [
    "## 1. Load Dataset"
   ]
  },
  {
   "cell_type": "code",
   "execution_count": null,
   "metadata": {},
   "outputs": [],
   "source": [
    "dataset_filepath = 'data/Polish_Banks/polish_banks_dataset.csv'\n",
    "attribute_names_file_path = 'data/Polish_Banks/attr_names.pickle'\n",
    "plots_save_dir = 'plots_removed_outliers/'"
   ]
  },
  {
   "cell_type": "code",
   "execution_count": null,
   "metadata": {},
   "outputs": [],
   "source": [
    "df = pd.read_csv(dataset_filepath)\n",
    "with open(attribute_names_file_path, 'rb') as f:\n",
    "    attr_names = pickle.load(f)\n",
    "\n",
    "if not os.path.exists(plots_save_dir):\n",
    "    os.makedirs(plots_save_dir)"
   ]
  },
  {
   "cell_type": "code",
   "execution_count": null,
   "metadata": {},
   "outputs": [],
   "source": []
  },
  {
   "attachments": {},
   "cell_type": "markdown",
   "metadata": {},
   "source": [
    "## 2. Plots"
   ]
  },
  {
   "cell_type": "code",
   "execution_count": null,
   "metadata": {},
   "outputs": [],
   "source": [
    "df = df.drop('Unnamed: 0', axis='columns')"
   ]
  },
  {
   "cell_type": "code",
   "execution_count": null,
   "metadata": {},
   "outputs": [],
   "source": [
    "attr_names['Attr37']"
   ]
  },
  {
   "cell_type": "code",
   "execution_count": null,
   "metadata": {},
   "outputs": [],
   "source": [
    "display(df.describe().T)\n",
    "\n",
    "datatypes = pd.DataFrame(df.dtypes, columns=[\"type\"]).reset_index()\n",
    "datatypes.groupby(\"type\").count().plot(kind='bar', legend=False)\n",
    "object_values = datatypes[datatypes[\"type\"] == \"object\"][\"index\"].values\n",
    "df[object_values]\n",
    "\n",
    "non_object_values = datatypes[datatypes[\"type\"] != \"object\"][\"index\"].values\n",
    "\n",
    "\n",
    "df.nunique().sort_values()\n",
    "\n",
    "msno.matrix(df)\n",
    "msno.bar(df)\n",
    "\n",
    "attributes_with_missing_data = df.isnull().sum(axis=0)\n",
    "attributes_with_missing_data = attributes_with_missing_data[attributes_with_missing_data > 0]\n",
    "attributes_with_missing_data = pd.DataFrame(attributes_with_missing_data, columns=[\"num_nans\"])\n",
    "attributes_with_missing_data.sort_values(\"num_nans\", ascending=False)\n",
    "\n",
    "print('=========')\n",
    "# z score filtering is shit as mean and std are heavily skewed\n",
    "df_no_obj_val = df[non_object_values]\n",
    "z_score_abs = np.abs((df_no_obj_val - df_no_obj_val.mean())/df_no_obj_val.std(ddof=0))\n",
    "z_score_abs.to_csv('z_score')\n",
    "df_new = df_no_obj_val[~((z_score_abs > 3).any(axis=1))]\n",
    "display(df_new)\n",
    "display(df_new.describe().T)\n",
    "\n",
    "\n",
    "# try quantile filtering\n",
    "# Calculate quantiles and IQR\n",
    "Q1 = df_no_obj_val.quantile(0.01) # Same as np.percentile but maps (0,1) and not (0,100)\n",
    "Q3 = df_no_obj_val.quantile(0.99)\n",
    "IQR = Q3 - Q1\n",
    "\n",
    "# Return a boolean array of the rows with (any) non-outlier column values\n",
    "condition = ~((df_no_obj_val < (Q1 - 1.5 * IQR)) | (df_no_obj_val > (Q3 + 1.5 * IQR))).any(axis=1)\n",
    "\n",
    "# Filter our dataframe based on condition\n",
    "df_new = df_no_obj_val[condition]\n",
    "display(df_new)\n",
    "display(df_new.describe().T)\n",
    "\n"
   ]
  },
  {
   "cell_type": "code",
   "execution_count": null,
   "metadata": {},
   "outputs": [],
   "source": [
    "print(df.Attr5.max())\n",
    "print(df[df.Attr5 == 155870.0])\n",
    "print(df_new.Attr5.max())"
   ]
  },
  {
   "cell_type": "code",
   "execution_count": null,
   "metadata": {},
   "outputs": [],
   "source": [
    "corr = df.corr()\n",
    "\n",
    "# Generate a mask for the upper triangle\n",
    "mask = np.triu(np.ones_like(corr, dtype=bool))\n",
    "\n",
    "# Set up the matplotlib figure\n",
    "f, ax = plt.subplots(figsize=(11, 9))\n",
    "\n",
    "# Generate a custom diverging colormap\n",
    "cmap = sns.diverging_palette(230, 20, as_cmap=True)\n",
    "\n",
    "# Draw the heatmap with the mask and correct aspect ratio\n",
    "sns.heatmap(corr, mask=mask, cmap=cmap, center=0,\n",
    "            square=True, linewidths=.5, cbar_kws={\"shrink\": .5})"
   ]
  },
  {
   "cell_type": "code",
   "execution_count": null,
   "metadata": {},
   "outputs": [],
   "source": [
    "colnames = [col for col in df.columns]\n",
    "# takes 10 min to run\n",
    "# for colname_x in colnames:\n",
    "#     for colname_y in colnames:\n",
    "#         plt.figure()\n",
    "#         if colname_x == colname_y and colname_x != 'class':\n",
    "#             plot = sns.kdeplot(data=df, x=colname_x)\n",
    "#             fig = plot.get_figure()\n",
    "#             fig.savefig(f\"{plots_save_dir}/kdeplot_{colname_x}\")\n",
    "#         else:\n",
    "#             plot = sns.scatterplot(data=df, x=colname_x, y=colname_y)\n",
    "#             fig = plot.get_figure()\n",
    "#             fig.savefig(f\"{plots_save_dir}/scatterplot_{colname_x}_{colname_y}\")\n",
    "#         plt.close()\n",
    "\n",
    "for colname in colnames:\n",
    "        plt.figure()\n",
    "        if colname == 'class':\n",
    "                continue\n",
    "        plot = sns.kdeplot(data=df_new, x=colname)\n",
    "        fig = plot.get_figure()\n",
    "        fig.savefig(f\"{plots_save_dir}/kdeplot_{colname}\")\n",
    "        plt.close()"
   ]
  },
  {
   "cell_type": "code",
   "execution_count": null,
   "metadata": {},
   "outputs": [],
   "source": [
    "for colname in colnames:\n",
    "    if colname == 'class':\n",
    "        continue\n",
    "    plot = sns.violinplot(data=df_new, x=colname)\n",
    "    fig = plot.get_figure()\n",
    "    fig.savefig(f\"{plots_save_dir}/violinplot_{colname}\")\n",
    "    plt.close()"
   ]
  },
  {
   "cell_type": "code",
   "execution_count": null,
   "metadata": {},
   "outputs": [],
   "source": []
  },
  {
   "cell_type": "code",
   "execution_count": null,
   "metadata": {},
   "outputs": [],
   "source": []
  }
 ],
 "metadata": {
  "kernelspec": {
   "display_name": "ML",
   "language": "python",
   "name": "python3"
  },
  "language_info": {
   "codemirror_mode": {
    "name": "ipython",
    "version": 3
   },
   "file_extension": ".py",
   "mimetype": "text/x-python",
   "name": "python",
   "nbconvert_exporter": "python",
   "pygments_lexer": "ipython3",
   "version": "3.11.0"
  },
  "vscode": {
   "interpreter": {
    "hash": "293016a9e969b2a4054030da59098f92fc2cb07d6dfad4ad87af4fd8a2aff085"
   }
  }
 },
 "nbformat": 4,
 "nbformat_minor": 2
}
